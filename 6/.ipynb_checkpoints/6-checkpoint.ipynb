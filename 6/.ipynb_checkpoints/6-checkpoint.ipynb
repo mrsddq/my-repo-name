{
 "cells": [
  {
   "cell_type": "code",
   "execution_count": 2,
   "id": "ad8e4f15-59e1-40ca-8e60-c13a071cae3e",
   "metadata": {},
   "outputs": [],
   "source": [
    "from pyspark.sql import SparkSession\n",
    "\n",
    "spark = SparkSession.builder.getOrCreate()"
   ]
  },
  {
   "cell_type": "code",
   "execution_count": 7,
   "id": "822d7cd4-7665-4da4-9917-2f2608707211",
   "metadata": {},
   "outputs": [],
   "source": [
    "rentalDF = spark.read.csv('data/housing_1000.csv')"
   ]
  },
  {
   "cell_type": "code",
   "execution_count": 8,
   "id": "aec6ceb4-7757-4982-bad6-0cb7c0387e38",
   "metadata": {},
   "outputs": [
    {
     "name": "stdout",
     "output_type": "stream",
     "text": [
      "+-----+----+------+\n",
      "|  _c0| _c1|   _c2|\n",
      "+-----+----+------+\n",
      "|rooms|sqft| price|\n",
      "|    4| 855| 35662|\n",
      "|    5|1847| 71901|\n",
      "|    3|2363| 90110|\n",
      "|    5| 626| 27775|\n",
      "|    5|1103| 42047|\n",
      "|    2|2428| 94186|\n",
      "|    3|1513| 57328|\n",
      "|    3| 550| 24024|\n",
      "|    3|1930| 75585|\n",
      "|    5|2292| 86433|\n",
      "|    4|2136| 81572|\n",
      "|    3|2145| 82368|\n",
      "|    5|2967|114722|\n",
      "|    2|1705| 65356|\n",
      "|    4|2354| 88461|\n",
      "|    2|1066| 42810|\n",
      "|    4|2918|112670|\n",
      "|    5|1435| 54380|\n",
      "|    1|2434| 91206|\n",
      "+-----+----+------+\n",
      "only showing top 20 rows\n"
     ]
    }
   ],
   "source": [
    "rentalDF.show()"
   ]
  },
  {
   "cell_type": "code",
   "execution_count": 11,
   "id": "b59c481e-da91-41ec-8735-bb5ea17b1059",
   "metadata": {},
   "outputs": [],
   "source": [
    "rentalDF = spark.read.csv('data/housing_1000.csv',header=True)"
   ]
  },
  {
   "cell_type": "code",
   "execution_count": 12,
   "id": "2d9d90ab-5557-4eb2-8358-390c69efb11f",
   "metadata": {},
   "outputs": [
    {
     "name": "stdout",
     "output_type": "stream",
     "text": [
      "+-----+----+------+\n",
      "|rooms|sqft| price|\n",
      "+-----+----+------+\n",
      "|    4| 855| 35662|\n",
      "|    5|1847| 71901|\n",
      "|    3|2363| 90110|\n",
      "|    5| 626| 27775|\n",
      "|    5|1103| 42047|\n",
      "|    2|2428| 94186|\n",
      "|    3|1513| 57328|\n",
      "|    3| 550| 24024|\n",
      "|    3|1930| 75585|\n",
      "|    5|2292| 86433|\n",
      "|    4|2136| 81572|\n",
      "|    3|2145| 82368|\n",
      "|    5|2967|114722|\n",
      "|    2|1705| 65356|\n",
      "|    4|2354| 88461|\n",
      "|    2|1066| 42810|\n",
      "|    4|2918|112670|\n",
      "|    5|1435| 54380|\n",
      "|    1|2434| 91206|\n",
      "|    4|1832| 69891|\n",
      "+-----+----+------+\n",
      "only showing top 20 rows\n"
     ]
    }
   ],
   "source": [
    "rentalDF.show()"
   ]
  },
  {
   "cell_type": "code",
   "execution_count": 13,
   "id": "d164ec82-802d-43ec-9670-b43d656aae2e",
   "metadata": {},
   "outputs": [
    {
     "name": "stdout",
     "output_type": "stream",
     "text": [
      "root\n",
      " |-- rooms: string (nullable = true)\n",
      " |-- sqft: string (nullable = true)\n",
      " |-- price: string (nullable = true)\n",
      "\n"
     ]
    }
   ],
   "source": [
    "rentalDF.printSchema()"
   ]
  },
  {
   "cell_type": "code",
   "execution_count": 14,
   "id": "e75651de-0eab-4c2c-8eee-cffd72e0e55b",
   "metadata": {},
   "outputs": [],
   "source": [
    "rentalDF = spark.read.csv('data/housing_1000.csv',header=True,inferSchema=True)"
   ]
  },
  {
   "cell_type": "code",
   "execution_count": 15,
   "id": "3a9df24d-9bb5-433e-aab6-95d486d9fc21",
   "metadata": {},
   "outputs": [
    {
     "name": "stdout",
     "output_type": "stream",
     "text": [
      "root\n",
      " |-- rooms: integer (nullable = true)\n",
      " |-- sqft: integer (nullable = true)\n",
      " |-- price: integer (nullable = true)\n",
      "\n"
     ]
    }
   ],
   "source": [
    "rentalDF.printSchema()"
   ]
  },
  {
   "cell_type": "code",
   "execution_count": 18,
   "id": "df2be319-26cc-4708-9095-192e2602f281",
   "metadata": {},
   "outputs": [],
   "source": [
    "rooms_rentalDF = rentalDF['rooms','price']"
   ]
  },
  {
   "cell_type": "code",
   "execution_count": 26,
   "id": "e812e7c4-7083-4787-a41e-59208faa3a40",
   "metadata": {},
   "outputs": [
    {
     "name": "stdout",
     "output_type": "stream",
     "text": [
      "+-----+------+\n",
      "|rooms| price|\n",
      "+-----+------+\n",
      "|    4| 35662|\n",
      "|    5| 71901|\n",
      "|    3| 90110|\n",
      "|    5| 27775|\n",
      "|    5| 42047|\n",
      "|    2| 94186|\n",
      "|    3| 57328|\n",
      "|    3| 24024|\n",
      "|    3| 75585|\n",
      "|    5| 86433|\n",
      "|    4| 81572|\n",
      "|    3| 82368|\n",
      "|    5|114722|\n",
      "|    2| 65356|\n",
      "|    4| 88461|\n",
      "|    2| 42810|\n",
      "|    4|112670|\n",
      "|    5| 54380|\n",
      "|    1| 91206|\n",
      "|    4| 69891|\n",
      "+-----+------+\n",
      "only showing top 20 rows\n"
     ]
    }
   ],
   "source": [
    "rooms_rentalDF.show()"
   ]
  },
  {
   "cell_type": "code",
   "execution_count": 25,
   "id": "4455ddf2-053e-4734-bbb8-3a211f0ef8a9",
   "metadata": {},
   "outputs": [],
   "source": [
    "sqft_rentalDF = rentalDF['sqft','price']"
   ]
  },
  {
   "cell_type": "code",
   "execution_count": 27,
   "id": "91260795-3f2e-4cd2-a2ab-4418b997a9e6",
   "metadata": {},
   "outputs": [
    {
     "name": "stdout",
     "output_type": "stream",
     "text": [
      "+----+------+\n",
      "|sqft| price|\n",
      "+----+------+\n",
      "| 855| 35662|\n",
      "|1847| 71901|\n",
      "|2363| 90110|\n",
      "| 626| 27775|\n",
      "|1103| 42047|\n",
      "|2428| 94186|\n",
      "|1513| 57328|\n",
      "| 550| 24024|\n",
      "|1930| 75585|\n",
      "|2292| 86433|\n",
      "|2136| 81572|\n",
      "|2145| 82368|\n",
      "|2967|114722|\n",
      "|1705| 65356|\n",
      "|2354| 88461|\n",
      "|1066| 42810|\n",
      "|2918|112670|\n",
      "|1435| 54380|\n",
      "|2434| 91206|\n",
      "|1832| 69891|\n",
      "+----+------+\n",
      "only showing top 20 rows\n"
     ]
    }
   ],
   "source": [
    "sqft_rentalDF.show()"
   ]
  },
  {
   "cell_type": "code",
   "execution_count": null,
   "id": "006e4553-757c-4f87-aaec-a4ff234388c5",
   "metadata": {},
   "outputs": [],
   "source": []
  }
 ],
 "metadata": {
  "kernelspec": {
   "display_name": "Python 3 (ipykernel)",
   "language": "python",
   "name": "python3"
  },
  "language_info": {
   "codemirror_mode": {
    "name": "ipython",
    "version": 3
   },
   "file_extension": ".py",
   "mimetype": "text/x-python",
   "name": "python",
   "nbconvert_exporter": "python",
   "pygments_lexer": "ipython3",
   "version": "3.13.5"
  }
 },
 "nbformat": 4,
 "nbformat_minor": 5
}
