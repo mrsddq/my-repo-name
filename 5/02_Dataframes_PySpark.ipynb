{
 "cells": [
  {
   "cell_type": "markdown",
   "id": "aa428235-eb2d-45d6-8998-f642dafd7123",
   "metadata": {},
   "source": [
    "# DataFrame\n",
    "- 2-Dimensional Array to store data\n",
    "- Data Structure"
   ]
  },
  {
   "cell_type": "code",
   "execution_count": null,
   "id": "ad8e4f15-59e1-40ca-8e60-c13a071cae3e",
   "metadata": {},
   "outputs": [],
   "source": [
    "from pyspark.sql import SparkSession\n",
    "\n",
    "spark = SparkSession.builder.getOrCreate()"
   ]
  },
  {
   "cell_type": "code",
   "execution_count": null,
   "id": "a6a989c6-4187-48c6-bdb7-a2d421fe558d",
   "metadata": {},
   "outputs": [],
   "source": [
    "greentaxiDF = spark.read.parquet('data/green_tripdata_2024-01.parquet')"
   ]
  },
  {
   "cell_type": "code",
   "execution_count": null,
   "id": "5e64c7e5-cc1e-4da7-a3f0-b1b8f44f56d0",
   "metadata": {},
   "outputs": [],
   "source": [
    "greentaxiDF"
   ]
  },
  {
   "cell_type": "code",
   "execution_count": null,
   "id": "74d102e5-dfcb-4ab2-abd7-24a30336ba74",
   "metadata": {},
   "outputs": [],
   "source": [
    "greentaxiDF.show()"
   ]
  },
  {
   "cell_type": "code",
   "execution_count": null,
   "id": "342a9b17-4ce4-4b2d-847c-58e757906583",
   "metadata": {},
   "outputs": [],
   "source": [
    "greentaxiDF['PULocationID','DOLocationID','fare_amount'].show()"
   ]
  },
  {
   "cell_type": "code",
   "execution_count": null,
   "id": "53578521-bc12-4fa9-b68e-ff0d5331163d",
   "metadata": {},
   "outputs": [],
   "source": [
    "import pandas as pd"
   ]
  },
  {
   "cell_type": "code",
   "execution_count": null,
   "id": "d5378c67-4e1f-488f-8fd2-5d48bd91943c",
   "metadata": {},
   "outputs": [],
   "source": [
    "! pip install fastparquet"
   ]
  },
  {
   "cell_type": "code",
   "execution_count": null,
   "id": "88979e5e-c07e-4bfa-8f22-8dd4440c2402",
   "metadata": {},
   "outputs": [],
   "source": [
    "greentaxiPD = pd.read_parquet('data/green_tripdata_2024-01.parquet')"
   ]
  },
  {
   "cell_type": "code",
   "execution_count": null,
   "id": "7af7ac9d-fd72-477b-ad45-20b93b9a9fc1",
   "metadata": {},
   "outputs": [],
   "source": [
    "greentaxiPD"
   ]
  }
 ],
 "metadata": {
  "kernelspec": {
   "display_name": "Python 3 (ipykernel)",
   "language": "python",
   "name": "python3"
  },
  "language_info": {
   "codemirror_mode": {
    "name": "ipython",
    "version": 3
   },
   "file_extension": ".py",
   "mimetype": "text/x-python",
   "name": "python",
   "nbconvert_exporter": "python",
   "pygments_lexer": "ipython3",
   "version": "3.13.5"
  }
 },
 "nbformat": 4,
 "nbformat_minor": 5
}
