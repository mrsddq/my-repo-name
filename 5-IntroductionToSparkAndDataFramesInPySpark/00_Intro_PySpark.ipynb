{
 "cells": [
  {
   "cell_type": "code",
   "execution_count": 1,
   "id": "a95adcb8-d519-462c-9db9-80271646bd5a",
   "metadata": {},
   "outputs": [],
   "source": [
    "from pyspark.sql import SparkSession\n",
    "\n",
    "spark = SparkSession.builder.getOrCreate()"
   ]
  },
  {
   "cell_type": "code",
   "execution_count": 3,
   "id": "5a7c03a4-9adb-446f-a8ec-589d5c6301f3",
   "metadata": {},
   "outputs": [
    {
     "data": {
      "text/plain": [
       "DataFrame[a: bigint, b: double, c: string, d: date, e: timestamp]"
      ]
     },
     "execution_count": 3,
     "metadata": {},
     "output_type": "execute_result"
    }
   ],
   "source": [
    "from datetime import datetime, date\n",
    "import pandas as pd\n",
    "from pyspark.sql import Row\n",
    "\n",
    "df = spark.createDataFrame([\n",
    "    Row(a=1, b=2., c='string1', d=date(2000, 1, 1), e=datetime(2000, 1, 1, 12, 0)),\n",
    "    Row(a=2, b=3., c='string2', d=date(2000, 2, 1), e=datetime(2000, 1, 2, 12, 0)),\n",
    "    Row(a=4, b=5., c='string3', d=date(2000, 3, 1), e=datetime(2000, 1, 3, 12, 0))\n",
    "])\n",
    "df"
   ]
  },
  {
   "cell_type": "markdown",
   "id": "119d3b06-b993-4fb9-bcd4-7e75330978a1",
   "metadata": {},
   "source": [
    "# What is Apache Spark?"
   ]
  },
  {
   "cell_type": "raw",
   "id": "8e730e74-fcd3-4b64-9569-719bd93d6529",
   "metadata": {},
   "source": [
    "- Apache Spark Engine for Big Data Processing\n",
    "- Data Engineering\n",
    "- Machine Learning\n",
    "- Single Node or Multi Clusters"
   ]
  },
  {
   "cell_type": "markdown",
   "id": "5d1703fe-7fbe-4bde-97be-36ae819271cc",
   "metadata": {},
   "source": [
    "# What is PySpark?"
   ]
  },
  {
   "cell_type": "raw",
   "id": "d02a7043-5ce5-44e9-affa-cea7864b66a6",
   "metadata": {},
   "source": [
    "PySpark is a PythonAPI for Apache Spark"
   ]
  }
 ],
 "metadata": {
  "kernelspec": {
   "display_name": "Python 3 (ipykernel)",
   "language": "python",
   "name": "python3"
  },
  "language_info": {
   "codemirror_mode": {
    "name": "ipython",
    "version": 3
   },
   "file_extension": ".py",
   "mimetype": "text/x-python",
   "name": "python",
   "nbconvert_exporter": "python",
   "pygments_lexer": "ipython3",
   "version": "3.13.5"
  }
 },
 "nbformat": 4,
 "nbformat_minor": 5
}
