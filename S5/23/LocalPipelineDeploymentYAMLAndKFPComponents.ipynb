{
 "cells": [
  {
   "cell_type": "code",
   "execution_count": 1,
   "id": "39d910f3-6f92-4852-872c-0771a36603e1",
   "metadata": {},
   "outputs": [],
   "source": [
    "# pip install kfp"
   ]
  },
  {
   "cell_type": "code",
   "execution_count": 2,
   "id": "7e33c4b7-cae0-4fdc-a088-f08b9a06c453",
   "metadata": {},
   "outputs": [],
   "source": [
    "# build kubeflow pipeline for two number"
   ]
  },
  {
   "cell_type": "code",
   "execution_count": 29,
   "id": "43043a83-3587-46ef-8457-8b136309a277",
   "metadata": {},
   "outputs": [],
   "source": [
    "# import libraries\n",
    "import kfp\n",
    "from kfp import dsl"
   ]
  },
  {
   "cell_type": "code",
   "execution_count": 30,
   "id": "c1e93c4f-bf2e-44fe-96a6-841707524701",
   "metadata": {},
   "outputs": [],
   "source": [
    "@dsl.component\n",
    "def num_add(a: int, b: int) -> int:\n",
    "    return a + b\n",
    "@dsl.component\n",
    "def num_sub(a: int, b: int) -> int:\n",
    "    return a - b"
   ]
  },
  {
   "cell_type": "code",
   "execution_count": 31,
   "id": "28327c37-15db-4fe4-950d-3d475bc91352",
   "metadata": {},
   "outputs": [],
   "source": [
    "@dsl.pipeline\n",
    "def num_pipeline(a: int = 1, b: int = 7) -> int:\n",
    "    pipeline_task1 = num_add(a=a,b=b)\n",
    "    pipeline_task2 = num_sub(a=a,b=b)\n",
    "    complete_task = num_add(a=pipeline_task1.output,b=pipeline_task2.output)\n",
    "    return complete_task.output"
   ]
  },
  {
   "cell_type": "code",
   "execution_count": 32,
   "id": "3359b249-6bd2-4dd4-bc42-4aaa2e01c199",
   "metadata": {},
   "outputs": [],
   "source": [
    "from kfp import compiler\n",
    "compiler.Compiler().compile(num_pipeline, 'num_pipeline.yaml')"
   ]
  },
  {
   "cell_type": "code",
   "execution_count": null,
   "id": "1376eb2c-7da2-44af-9cdd-173c55ef41fb",
   "metadata": {},
   "outputs": [],
   "source": []
  }
 ],
 "metadata": {
  "kernelspec": {
   "display_name": "Python 3 (ipykernel)",
   "language": "python",
   "name": "python3"
  },
  "language_info": {
   "codemirror_mode": {
    "name": "ipython",
    "version": 3
   },
   "file_extension": ".py",
   "mimetype": "text/x-python",
   "name": "python",
   "nbconvert_exporter": "python",
   "pygments_lexer": "ipython3",
   "version": "3.13.7"
  }
 },
 "nbformat": 4,
 "nbformat_minor": 5
}
