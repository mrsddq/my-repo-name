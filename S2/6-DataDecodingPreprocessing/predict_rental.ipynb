{
 "cells": [
  {
   "cell_type": "code",
   "execution_count": null,
   "id": "961b8226-ace8-46ce-8830-dc3ae3424696",
   "metadata": {},
   "outputs": [],
   "source": [
    "# !pip install scikit-learn\n",
    "# !pip install numpy"
   ]
  },
  {
   "cell_type": "code",
   "execution_count": 61,
   "id": "d87fa00e-f20d-4fa2-bb50-4136771f1c42",
   "metadata": {},
   "outputs": [],
   "source": [
    "import numpy as np\n",
    "import pandas as pd\n",
    "from sklearn.linear_model import LinearRegression\n",
    "from sklearn.model_selection import train_test_split"
   ]
  },
  {
   "cell_type": "code",
   "execution_count": 62,
   "id": "fd4b5d7e-2206-4afa-bbb0-e73d84c795d0",
   "metadata": {},
   "outputs": [],
   "source": [
    "# load data\n",
    "rentalPD = pd.read_csv('data/housing_1000.csv')"
   ]
  },
  {
   "cell_type": "code",
   "execution_count": 63,
   "id": "25e45ece-18ac-4cbd-a26e-199d2927f35f",
   "metadata": {},
   "outputs": [
    {
     "data": {
      "text/html": [
       "<div>\n",
       "<style scoped>\n",
       "    .dataframe tbody tr th:only-of-type {\n",
       "        vertical-align: middle;\n",
       "    }\n",
       "\n",
       "    .dataframe tbody tr th {\n",
       "        vertical-align: top;\n",
       "    }\n",
       "\n",
       "    .dataframe thead th {\n",
       "        text-align: right;\n",
       "    }\n",
       "</style>\n",
       "<table border=\"1\" class=\"dataframe\">\n",
       "  <thead>\n",
       "    <tr style=\"text-align: right;\">\n",
       "      <th></th>\n",
       "      <th>rooms</th>\n",
       "      <th>sqft</th>\n",
       "      <th>price</th>\n",
       "    </tr>\n",
       "  </thead>\n",
       "  <tbody>\n",
       "    <tr>\n",
       "      <th>0</th>\n",
       "      <td>4</td>\n",
       "      <td>855</td>\n",
       "      <td>35662</td>\n",
       "    </tr>\n",
       "    <tr>\n",
       "      <th>1</th>\n",
       "      <td>5</td>\n",
       "      <td>1847</td>\n",
       "      <td>71901</td>\n",
       "    </tr>\n",
       "    <tr>\n",
       "      <th>2</th>\n",
       "      <td>3</td>\n",
       "      <td>2363</td>\n",
       "      <td>90110</td>\n",
       "    </tr>\n",
       "    <tr>\n",
       "      <th>3</th>\n",
       "      <td>5</td>\n",
       "      <td>626</td>\n",
       "      <td>27775</td>\n",
       "    </tr>\n",
       "    <tr>\n",
       "      <th>4</th>\n",
       "      <td>5</td>\n",
       "      <td>1103</td>\n",
       "      <td>42047</td>\n",
       "    </tr>\n",
       "  </tbody>\n",
       "</table>\n",
       "</div>"
      ],
      "text/plain": [
       "   rooms  sqft  price\n",
       "0      4   855  35662\n",
       "1      5  1847  71901\n",
       "2      3  2363  90110\n",
       "3      5   626  27775\n",
       "4      5  1103  42047"
      ]
     },
     "execution_count": 63,
     "metadata": {},
     "output_type": "execute_result"
    }
   ],
   "source": [
    "rentalPD.head(5)"
   ]
  },
  {
   "cell_type": "code",
   "execution_count": 64,
   "id": "b2b71a07-67b5-4b59-8825-2ff7bf61029e",
   "metadata": {},
   "outputs": [
    {
     "data": {
      "text/html": [
       "<div>\n",
       "<style scoped>\n",
       "    .dataframe tbody tr th:only-of-type {\n",
       "        vertical-align: middle;\n",
       "    }\n",
       "\n",
       "    .dataframe tbody tr th {\n",
       "        vertical-align: top;\n",
       "    }\n",
       "\n",
       "    .dataframe thead th {\n",
       "        text-align: right;\n",
       "    }\n",
       "</style>\n",
       "<table border=\"1\" class=\"dataframe\">\n",
       "  <thead>\n",
       "    <tr style=\"text-align: right;\">\n",
       "      <th></th>\n",
       "      <th>rooms</th>\n",
       "      <th>sqft</th>\n",
       "      <th>price</th>\n",
       "    </tr>\n",
       "  </thead>\n",
       "  <tbody>\n",
       "    <tr>\n",
       "      <th>990</th>\n",
       "      <td>2</td>\n",
       "      <td>2834</td>\n",
       "      <td>108550</td>\n",
       "    </tr>\n",
       "    <tr>\n",
       "      <th>991</th>\n",
       "      <td>3</td>\n",
       "      <td>1516</td>\n",
       "      <td>57318</td>\n",
       "    </tr>\n",
       "    <tr>\n",
       "      <th>992</th>\n",
       "      <td>4</td>\n",
       "      <td>810</td>\n",
       "      <td>33718</td>\n",
       "    </tr>\n",
       "    <tr>\n",
       "      <th>993</th>\n",
       "      <td>2</td>\n",
       "      <td>707</td>\n",
       "      <td>30706</td>\n",
       "    </tr>\n",
       "    <tr>\n",
       "      <th>994</th>\n",
       "      <td>5</td>\n",
       "      <td>2993</td>\n",
       "      <td>115289</td>\n",
       "    </tr>\n",
       "    <tr>\n",
       "      <th>995</th>\n",
       "      <td>2</td>\n",
       "      <td>1132</td>\n",
       "      <td>43148</td>\n",
       "    </tr>\n",
       "    <tr>\n",
       "      <th>996</th>\n",
       "      <td>1</td>\n",
       "      <td>2602</td>\n",
       "      <td>98669</td>\n",
       "    </tr>\n",
       "    <tr>\n",
       "      <th>997</th>\n",
       "      <td>1</td>\n",
       "      <td>1156</td>\n",
       "      <td>47329</td>\n",
       "    </tr>\n",
       "    <tr>\n",
       "      <th>998</th>\n",
       "      <td>4</td>\n",
       "      <td>1923</td>\n",
       "      <td>73608</td>\n",
       "    </tr>\n",
       "    <tr>\n",
       "      <th>999</th>\n",
       "      <td>3</td>\n",
       "      <td>2431</td>\n",
       "      <td>91592</td>\n",
       "    </tr>\n",
       "  </tbody>\n",
       "</table>\n",
       "</div>"
      ],
      "text/plain": [
       "     rooms  sqft   price\n",
       "990      2  2834  108550\n",
       "991      3  1516   57318\n",
       "992      4   810   33718\n",
       "993      2   707   30706\n",
       "994      5  2993  115289\n",
       "995      2  1132   43148\n",
       "996      1  2602   98669\n",
       "997      1  1156   47329\n",
       "998      4  1923   73608\n",
       "999      3  2431   91592"
      ]
     },
     "execution_count": 64,
     "metadata": {},
     "output_type": "execute_result"
    }
   ],
   "source": [
    "rentalPD.tail(10)"
   ]
  },
  {
   "cell_type": "code",
   "execution_count": 65,
   "id": "0d332fc6-21d4-4469-a565-4e4598d81a83",
   "metadata": {},
   "outputs": [],
   "source": [
    "#prepare the data\n",
    "X = rentalPD[['rooms','sqft']].values  # features - rooms and sqft\n",
    "y = rentalPD['price'].values           # label - price"
   ]
  },
  {
   "cell_type": "code",
   "execution_count": 66,
   "id": "4e31adc1-3690-4b3a-a8ea-7b0e2c69a2a5",
   "metadata": {},
   "outputs": [],
   "source": [
    "# split for train and test\n",
    "X_train, X_test, y_train, y_test = train_test_split(\n",
    "    X, y, test_size=0.2)"
   ]
  },
  {
   "cell_type": "code",
   "execution_count": 67,
   "id": "0f2879c6-131a-4546-8691-1248caddfcdb",
   "metadata": {},
   "outputs": [],
   "source": [
    "# model training\n",
    "model = LinearRegression().fit(X_train, y_train)"
   ]
  },
  {
   "cell_type": "code",
   "execution_count": 68,
   "id": "5a363208-0d69-4ba9-9caf-c88abe66a9b0",
   "metadata": {},
   "outputs": [
    {
     "name": "stdout",
     "output_type": "stream",
     "text": [
      "Coefficient from Trained Model [-20.52506169  36.90703913]\n",
      "Intercept from Trained Model 3223.876736534483\n"
     ]
    }
   ],
   "source": [
    "print(\"Coefficient from Trained Model\", model.coef_)\n",
    "print(\"Intercept from Trained Model\", model.intercept_)"
   ]
  },
  {
   "cell_type": "code",
   "execution_count": 73,
   "id": "0431034c-c72f-4cd3-acd6-3b86ad0b7292",
   "metadata": {},
   "outputs": [
    {
     "name": "stdout",
     "output_type": "stream",
     "text": [
      "Actual Rental Price for rooms 2 with sqft 2000 is 78229\n"
     ]
    }
   ],
   "source": [
    "# prediction for dataset\n",
    "print(\"Actual Rental Price for rooms\", X_test[0][0], \"with sqft\", X_test[0][1], \"is\", y_test[0])"
   ]
  },
  {
   "cell_type": "code",
   "execution_count": 70,
   "id": "86a9f7b9-ed27-489a-aab2-4d1b799f22ac",
   "metadata": {},
   "outputs": [],
   "source": [
    "predictedRental = model.predict(np.array([[X_test[0][0],X_test[0][1]]]))"
   ]
  },
  {
   "cell_type": "code",
   "execution_count": 71,
   "id": "2c6f7def-d5ff-444b-a490-138c00baf3b4",
   "metadata": {},
   "outputs": [
    {
     "name": "stdout",
     "output_type": "stream",
     "text": [
      "Predicted Rental Price for rooms = 2 with sqft 2000 is = [76996.90487674]\n"
     ]
    }
   ],
   "source": [
    "print(\"Predicted Rental Price for rooms =\", X_test[0][0], \"with sqft\", X_test[0][1], \"is =\", predictedRental)"
   ]
  },
  {
   "cell_type": "code",
   "execution_count": 72,
   "id": "e4d624fd-816b-4ea2-bad6-17b409883ed3",
   "metadata": {},
   "outputs": [
    {
     "name": "stdout",
     "output_type": "stream",
     "text": [
      "Delta: [1232.09512326]\n"
     ]
    }
   ],
   "source": [
    "print(\"Delta:\", y_test[0] - predictedRental)"
   ]
  },
  {
   "cell_type": "code",
   "execution_count": 75,
   "id": "db7a1dfc-e348-4173-9979-be0a753ba3d1",
   "metadata": {},
   "outputs": [
    {
     "data": {
      "image/png": "[encoded data removed]",
      "text/plain": [
       "<Figure size 640x480 with 1 Axes>"
      ]
     },
     "metadata": {},
     "output_type": "display_data"
    },
    {
     "data": {
      "image/png": "[encoded data removed]",
      "text/plain": [
       "<Figure size 640x480 with 1 Axes>"
      ]
     },
     "metadata": {},
     "output_type": "display_data"
    }
   ],
   "source": [
    "import matplotlib.pyplot as plt\n",
    "\n",
    "# Rooms vs Price\n",
    "plt.scatter(rentalPD['rooms'], rentalPD['price'])\n",
    "plt.xlabel('Rooms')\n",
    "plt.ylabel('Price')\n",
    "plt.title('Rooms vs Price')\n",
    "plt.show()\n",
    "\n",
    "# Sqft vs Price\n",
    "plt.scatter(rentalPD['sqft'], rentalPD['price'])\n",
    "plt.xlabel('Sqft')\n",
    "plt.ylabel('Price')\n",
    "plt.title('Sqft vs Price')\n",
    "plt.show()\n"
   ]
  }
 ],
 "metadata": {
  "kernelspec": {
   "display_name": "Python 3 (ipykernel)",
   "language": "python",
   "name": "python3"
  },
  "language_info": {
   "codemirror_mode": {
    "name": "ipython",
    "version": 3
   },
   "file_extension": ".py",
   "mimetype": "text/x-python",
   "name": "python",
   "nbconvert_exporter": "python",
   "pygments_lexer": "ipython3",
   "version": "3.13.5"
  }
 },
 "nbformat": 4,
 "nbformat_minor": 5
}
